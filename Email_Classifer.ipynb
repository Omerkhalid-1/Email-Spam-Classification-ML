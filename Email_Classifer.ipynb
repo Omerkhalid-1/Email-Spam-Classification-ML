{
  "cells": [
    {
      "cell_type": "markdown",
      "metadata": {
        "id": "view-in-github",
        "colab_type": "text"
      },
      "source": [
        "<a href=\"https://colab.research.google.com/github/Omerkhalid-1/Email-Spam-Classification-ML/blob/main/Email_Classifer.ipynb\" target=\"_parent\"><img src=\"https://colab.research.google.com/assets/colab-badge.svg\" alt=\"Open In Colab\"/></a>"
      ]
    },
    {
      "cell_type": "code",
      "execution_count": 2,
      "metadata": {
        "colab": {
          "base_uri": "https://localhost:8080/"
        },
        "id": "3QgCoHdipKOh",
        "outputId": "d9c02403-440b-4b5e-cd60-e2556a0fc9a7"
      },
      "outputs": [
        {
          "output_type": "stream",
          "name": "stderr",
          "text": [
            "[nltk_data] Downloading package stopwords to /root/nltk_data...\n",
            "[nltk_data]   Unzipping corpora/stopwords.zip.\n"
          ]
        }
      ],
      "source": [
        "\n",
        "import numpy as np\n",
        "import pandas as pd\n",
        "import matplotlib.pyplot as plt\n",
        "import seaborn as sns # Used for heatmaps.\n",
        "import sqlite3\n",
        "from sklearn.feature_extraction.text import TfidfVectorizer\n",
        "from sklearn.feature_extraction.text import CountVectorizer\n",
        "from sklearn.naive_bayes import BernoulliNB\n",
        "from sklearn.naive_bayes import MultinomialNB\n",
        "from sklearn.preprocessing import StandardScaler\n",
        "from sklearn.model_selection import train_test_split\n",
        "from sklearn.model_selection import cross_val_score\n",
        "from sklearn.neighbors import KNeighborsClassifier\n",
        "from matplotlib.colors import ListedColormap\n",
        "from sklearn.metrics import accuracy_score\n",
        "from sklearn.metrics import confusion_matrix\n",
        "import numpy as np\n",
        "import pandas as pd\n",
        "import matplotlib.pyplot as plt\n",
        "import seaborn as sns\n",
        "\n",
        "import string\n",
        "import nltk\n",
        "from nltk.corpus import stopwords\n",
        "nltk.download('stopwords')\n",
        "# Importing libraries necessary for Model Building and Training\n",
        "\n",
        "from sklearn.model_selection import train_test_split\n",
        "import warnings\n",
        "warnings.filterwarnings('ignore')\n",
        "import re\n",
        "from nltk.corpus import stopwords\n",
        "import nltk\n",
        "import glob\n",
        "import errno\n",
        "from sklearn.manifold import  TSNE\n",
        "from sklearn.utils import shuffle\n",
        "from google.colab import drive"
      ]
    },
    {
      "cell_type": "markdown",
      "source": [
        "## Read the dataset from the file."
      ],
      "metadata": {
        "id": "WcgEJnjI5YPj"
      }
    },
    {
      "cell_type": "code",
      "execution_count": 4,
      "metadata": {
        "id": "YkM1oelQKScI",
        "colab": {
          "base_uri": "https://localhost:8080/"
        },
        "outputId": "257fd31c-db0a-4ec8-902c-f8f4a153c9ea"
      },
      "outputs": [
        {
          "output_type": "stream",
          "name": "stdout",
          "text": [
            "Drive already mounted at /content/drive; to attempt to forcibly remount, call drive.mount(\"/content/drive\", force_remount=True).\n",
            "                                                text  spam\n",
            "0  Subject: naturally irresistible your corporate...     1\n",
            "1  Subject: the stock trading gunslinger  fanny i...     1\n",
            "2  Subject: unbelievable new homes made easy  im ...     1\n",
            "3  Subject: 4 color printing special  request add...     1\n",
            "4  Subject: do not have money , get software cds ...     1\n"
          ]
        }
      ],
      "source": [
        "# Authenticate and create the PyDrive client.\n",
        "drive.mount('/content/drive')\n",
        "\n",
        "# Replace `'path/to/your/file.csv'` with the actual path to your CSV file.\n",
        "with open('/content/drive/My Drive/emails.csv', 'r') as file:\n",
        "  # Read and process the contents of the CSV file.\n",
        "  # You can use libraries like pandas to further analyze the data.\n",
        "  # For example:\n",
        "  import pandas as pd\n",
        "  emails_df = pd.read_csv(file)\n",
        "  print(emails_df.head())\n"
      ]
    },
    {
      "cell_type": "code",
      "execution_count": 5,
      "metadata": {
        "id": "jfAxfyznN7SQ",
        "colab": {
          "base_uri": "https://localhost:8080/"
        },
        "outputId": "432b8c86-4764-4318-b47a-61cb5590259a"
      },
      "outputs": [
        {
          "output_type": "stream",
          "name": "stdout",
          "text": [
            "                                                text  spam\n",
            "0  Subject: naturally irresistible your corporate...     1\n",
            "1  Subject: the stock trading gunslinger  fanny i...     1\n",
            "2  Subject: unbelievable new homes made easy  im ...     1\n",
            "3  Subject: 4 color printing special  request add...     1\n",
            "4  Subject: do not have money , get software cds ...     1\n"
          ]
        }
      ],
      "source": [
        "print(emails_df.head())"
      ]
    },
    {
      "cell_type": "markdown",
      "source": [
        "## Separate into spam and ham dataframes"
      ],
      "metadata": {
        "id": "SevrM8UA5fHP"
      }
    },
    {
      "cell_type": "code",
      "execution_count": 6,
      "metadata": {
        "colab": {
          "base_uri": "https://localhost:8080/"
        },
        "id": "ANLnTp8JOYai",
        "outputId": "e8a3e7be-08df-4131-e86b-3d6588842594"
      },
      "outputs": [
        {
          "output_type": "stream",
          "name": "stdout",
          "text": [
            "Spam Percentage = 23.88268156424581 %\n"
          ]
        }
      ],
      "source": [
        "\n",
        "spam_df = emails_df[emails_df['spam'] == 1]\n",
        "ham_df = emails_df[emails_df['spam'] == 0]\n",
        "\n",
        "# Visualize the data.\n",
        "print('Spam Percentage =',(len(spam_df)/len(emails_df))*100,'%')"
      ]
    },
    {
      "cell_type": "markdown",
      "source": [
        "## Function to preprocess text by removing 'Subject' and punctuations.\n"
      ],
      "metadata": {
        "id": "Jk-WTDwi5mFZ"
      }
    },
    {
      "cell_type": "code",
      "execution_count": 7,
      "metadata": {
        "id": "dX5nRD1HO8ri",
        "colab": {
          "base_uri": "https://localhost:8080/"
        },
        "outputId": "28ef802f-785f-4e12-9b4f-816213b82da8"
      },
      "outputs": [
        {
          "output_type": "stream",
          "name": "stdout",
          "text": [
            "hello world\n",
            "this is an example email with a link  and an email address\n"
          ]
        }
      ],
      "source": [
        "import re\n",
        "\n",
        "def preprocess_text(text):\n",
        "    # Convert text to lowercase\n",
        "    text = text.lower()\n",
        "\n",
        "    # Remove HTML tags\n",
        "    text = re.sub(r'<[^>]+>', '', text)\n",
        "\n",
        "    # Remove the word 'Subject'\n",
        "    text = re.sub(r'\\bsubject\\b', '', text)\n",
        "\n",
        "    # Remove URLs\n",
        "    text = re.sub(r'http\\S+|www\\S+|https\\S+', '', text, flags=re.MULTILINE)\n",
        "\n",
        "    # Remove email addresses\n",
        "    text = re.sub(r'\\S+@\\S+', '', text)\n",
        "\n",
        "    # Remove punctuations\n",
        "    text = re.sub(r'[^\\w\\s]', '', text)\n",
        "\n",
        "    # Remove numbers\n",
        "    text = re.sub(r'\\d+', '', text)\n",
        "\n",
        "    # Remove extra whitespace\n",
        "    text = text.strip()\n",
        "\n",
        "    return text\n",
        "\n",
        "# Example usage\n",
        "sample_text = \"\"\"\n",
        "Subject: Hello World!\n",
        "This is an example email with a link: https://example.com and an email address: example@example.com.\n",
        "\"\"\"\n",
        "cleaned_text = preprocess_text(sample_text)\n",
        "print(cleaned_text)\n"
      ]
    },
    {
      "cell_type": "code",
      "execution_count": 8,
      "metadata": {
        "id": "YKYLDb6XO-cf"
      },
      "outputs": [],
      "source": [
        "ham_df['text'] = ham_df['text'].apply(preprocess_text)\n",
        "spam_df['text'] = spam_df['text'].apply(preprocess_text)\n",
        "emails_df['text'] = emails_df['text'].apply(preprocess_text)"
      ]
    },
    {
      "cell_type": "markdown",
      "source": [
        "## Dataset after Preprocessing."
      ],
      "metadata": {
        "id": "3GGw5Rzt5qf9"
      }
    },
    {
      "cell_type": "code",
      "execution_count": 9,
      "metadata": {
        "colab": {
          "base_uri": "https://localhost:8080/"
        },
        "id": "98CVF_EGPAcP",
        "outputId": "b02d9979-0fd0-486c-a728-de20b648f895"
      },
      "outputs": [
        {
          "output_type": "execute_result",
          "data": {
            "text/plain": [
              "0       naturally irresistible your corporate identity...\n",
              "1       the stock trading gunslinger  fanny is merrill...\n",
              "2       unbelievable new homes made easy  im wanting t...\n",
              "3       color printing special  request additional inf...\n",
              "4       do not have money  get software cds from here ...\n",
              "                              ...                        \n",
              "1363    are you ready to get it   hello   viagra is th...\n",
              "1364    would you like a   gas card   don  t let the c...\n",
              "1365    immediate reply needed  dear sir   i am dr jam...\n",
              "1366    wanna see me get fisted   fist  bang will show...\n",
              "1367    hot stock info  drgv announces another press r...\n",
              "Name: text, Length: 1368, dtype: object"
            ]
          },
          "metadata": {},
          "execution_count": 9
        }
      ],
      "source": [
        "ham_df['text']\n",
        "spam_df['text']"
      ]
    },
    {
      "cell_type": "markdown",
      "source": [
        "## Feature extraction using count vectorizer.\n",
        "#### This counts the frequency of the word in the specific message."
      ],
      "metadata": {
        "id": "_4kFFc_T5ybU"
      }
    },
    {
      "cell_type": "code",
      "execution_count": 10,
      "metadata": {
        "id": "cvgAxIV7PEjJ"
      },
      "outputs": [],
      "source": [
        "from sklearn.feature_extraction.text import CountVectorizer\n",
        "vectorizer = CountVectorizer()\n",
        "spamham_countVectorizer=vectorizer.fit_transform(emails_df['text'])"
      ]
    },
    {
      "cell_type": "markdown",
      "source": [
        "### Get all the different words that are used in the emails into a feature."
      ],
      "metadata": {
        "id": "-I67NEkS6Xt3"
      }
    },
    {
      "cell_type": "code",
      "execution_count": 11,
      "metadata": {
        "colab": {
          "base_uri": "https://localhost:8080/"
        },
        "id": "03goUpS2PGBb",
        "outputId": "8657b68d-fa79-4dad-ce08-321322ce8226"
      },
      "outputs": [
        {
          "output_type": "stream",
          "name": "stdout",
          "text": [
            "['aa' 'aaa' 'aaaenerfax' ... 'zzn' 'zzncacst' 'zzzz']\n"
          ]
        }
      ],
      "source": [
        "features_name = vectorizer.get_feature_names_out()\n",
        "print(features_name)\n"
      ]
    },
    {
      "cell_type": "code",
      "execution_count": 12,
      "metadata": {
        "colab": {
          "base_uri": "https://localhost:8080/"
        },
        "id": "1XAlt7luYb4H",
        "outputId": "013f2c34-dbd4-48df-fd8b-a0ad2c3e007a"
      },
      "outputs": [
        {
          "output_type": "execute_result",
          "data": {
            "text/plain": [
              "(5728, 33710)"
            ]
          },
          "metadata": {},
          "execution_count": 12
        }
      ],
      "source": [
        "spamham_countVectorizer.shape"
      ]
    },
    {
      "cell_type": "code",
      "execution_count": 13,
      "metadata": {
        "id": "LEO7X_ZoPHxm"
      },
      "outputs": [],
      "source": [
        "label=emails_df['spam']\n",
        "X=spamham_countVectorizer\n",
        "y=label"
      ]
    },
    {
      "cell_type": "code",
      "execution_count": 14,
      "metadata": {
        "colab": {
          "base_uri": "https://localhost:8080/"
        },
        "id": "vbV_l5y9PKhH",
        "outputId": "1308243c-3438-49bb-82c4-0dd8dca182d9"
      },
      "outputs": [
        {
          "output_type": "execute_result",
          "data": {
            "text/plain": [
              "(5728, 33710)"
            ]
          },
          "metadata": {},
          "execution_count": 14
        }
      ],
      "source": [
        "X.shape"
      ]
    },
    {
      "cell_type": "code",
      "execution_count": 16,
      "metadata": {
        "id": "5_uJlpT8POyC"
      },
      "outputs": [],
      "source": [
        "from sklearn.model_selection import train_test_split\n",
        "X_train,X_test,y_train,y_test=train_test_split(X,y,test_size=0.3)"
      ]
    },
    {
      "cell_type": "code",
      "execution_count": 17,
      "metadata": {
        "id": "fViEjuYIPSWX"
      },
      "outputs": [],
      "source": [
        "from sklearn.naive_bayes import MultinomialNB"
      ]
    },
    {
      "cell_type": "code",
      "execution_count": 18,
      "metadata": {
        "colab": {
          "base_uri": "https://localhost:8080/",
          "height": 74
        },
        "id": "WFVpW26CPT_4",
        "outputId": "4e91d921-beac-4540-dfeb-db913a2eb88a"
      },
      "outputs": [
        {
          "output_type": "execute_result",
          "data": {
            "text/plain": [
              "MultinomialNB()"
            ],
            "text/html": [
              "<style>#sk-container-id-1 {color: black;background-color: white;}#sk-container-id-1 pre{padding: 0;}#sk-container-id-1 div.sk-toggleable {background-color: white;}#sk-container-id-1 label.sk-toggleable__label {cursor: pointer;display: block;width: 100%;margin-bottom: 0;padding: 0.3em;box-sizing: border-box;text-align: center;}#sk-container-id-1 label.sk-toggleable__label-arrow:before {content: \"▸\";float: left;margin-right: 0.25em;color: #696969;}#sk-container-id-1 label.sk-toggleable__label-arrow:hover:before {color: black;}#sk-container-id-1 div.sk-estimator:hover label.sk-toggleable__label-arrow:before {color: black;}#sk-container-id-1 div.sk-toggleable__content {max-height: 0;max-width: 0;overflow: hidden;text-align: left;background-color: #f0f8ff;}#sk-container-id-1 div.sk-toggleable__content pre {margin: 0.2em;color: black;border-radius: 0.25em;background-color: #f0f8ff;}#sk-container-id-1 input.sk-toggleable__control:checked~div.sk-toggleable__content {max-height: 200px;max-width: 100%;overflow: auto;}#sk-container-id-1 input.sk-toggleable__control:checked~label.sk-toggleable__label-arrow:before {content: \"▾\";}#sk-container-id-1 div.sk-estimator input.sk-toggleable__control:checked~label.sk-toggleable__label {background-color: #d4ebff;}#sk-container-id-1 div.sk-label input.sk-toggleable__control:checked~label.sk-toggleable__label {background-color: #d4ebff;}#sk-container-id-1 input.sk-hidden--visually {border: 0;clip: rect(1px 1px 1px 1px);clip: rect(1px, 1px, 1px, 1px);height: 1px;margin: -1px;overflow: hidden;padding: 0;position: absolute;width: 1px;}#sk-container-id-1 div.sk-estimator {font-family: monospace;background-color: #f0f8ff;border: 1px dotted black;border-radius: 0.25em;box-sizing: border-box;margin-bottom: 0.5em;}#sk-container-id-1 div.sk-estimator:hover {background-color: #d4ebff;}#sk-container-id-1 div.sk-parallel-item::after {content: \"\";width: 100%;border-bottom: 1px solid gray;flex-grow: 1;}#sk-container-id-1 div.sk-label:hover label.sk-toggleable__label {background-color: #d4ebff;}#sk-container-id-1 div.sk-serial::before {content: \"\";position: absolute;border-left: 1px solid gray;box-sizing: border-box;top: 0;bottom: 0;left: 50%;z-index: 0;}#sk-container-id-1 div.sk-serial {display: flex;flex-direction: column;align-items: center;background-color: white;padding-right: 0.2em;padding-left: 0.2em;position: relative;}#sk-container-id-1 div.sk-item {position: relative;z-index: 1;}#sk-container-id-1 div.sk-parallel {display: flex;align-items: stretch;justify-content: center;background-color: white;position: relative;}#sk-container-id-1 div.sk-item::before, #sk-container-id-1 div.sk-parallel-item::before {content: \"\";position: absolute;border-left: 1px solid gray;box-sizing: border-box;top: 0;bottom: 0;left: 50%;z-index: -1;}#sk-container-id-1 div.sk-parallel-item {display: flex;flex-direction: column;z-index: 1;position: relative;background-color: white;}#sk-container-id-1 div.sk-parallel-item:first-child::after {align-self: flex-end;width: 50%;}#sk-container-id-1 div.sk-parallel-item:last-child::after {align-self: flex-start;width: 50%;}#sk-container-id-1 div.sk-parallel-item:only-child::after {width: 0;}#sk-container-id-1 div.sk-dashed-wrapped {border: 1px dashed gray;margin: 0 0.4em 0.5em 0.4em;box-sizing: border-box;padding-bottom: 0.4em;background-color: white;}#sk-container-id-1 div.sk-label label {font-family: monospace;font-weight: bold;display: inline-block;line-height: 1.2em;}#sk-container-id-1 div.sk-label-container {text-align: center;}#sk-container-id-1 div.sk-container {/* jupyter's `normalize.less` sets `[hidden] { display: none; }` but bootstrap.min.css set `[hidden] { display: none !important; }` so we also need the `!important` here to be able to override the default hidden behavior on the sphinx rendered scikit-learn.org. See: https://github.com/scikit-learn/scikit-learn/issues/21755 */display: inline-block !important;position: relative;}#sk-container-id-1 div.sk-text-repr-fallback {display: none;}</style><div id=\"sk-container-id-1\" class=\"sk-top-container\"><div class=\"sk-text-repr-fallback\"><pre>MultinomialNB()</pre><b>In a Jupyter environment, please rerun this cell to show the HTML representation or trust the notebook. <br />On GitHub, the HTML representation is unable to render, please try loading this page with nbviewer.org.</b></div><div class=\"sk-container\" hidden><div class=\"sk-item\"><div class=\"sk-estimator sk-toggleable\"><input class=\"sk-toggleable__control sk-hidden--visually\" id=\"sk-estimator-id-1\" type=\"checkbox\" checked><label for=\"sk-estimator-id-1\" class=\"sk-toggleable__label sk-toggleable__label-arrow\">MultinomialNB</label><div class=\"sk-toggleable__content\"><pre>MultinomialNB()</pre></div></div></div></div></div>"
            ]
          },
          "metadata": {},
          "execution_count": 18
        }
      ],
      "source": [
        "\n",
        "NB_classifier = MultinomialNB()\n",
        "NB_classifier.fit(X_train,y_train)"
      ]
    },
    {
      "cell_type": "code",
      "execution_count": 19,
      "metadata": {
        "id": "sSdV3d1fPVkD"
      },
      "outputs": [],
      "source": [
        "from sklearn.metrics import classification_report,confusion_matrix"
      ]
    },
    {
      "cell_type": "code",
      "execution_count": 20,
      "metadata": {
        "colab": {
          "base_uri": "https://localhost:8080/"
        },
        "id": "wkxsawhfPW9G",
        "outputId": "cb33662f-b32b-40b8-8303-cbc89787f0a1"
      },
      "outputs": [
        {
          "output_type": "execute_result",
          "data": {
            "text/plain": [
              "array([0, 0, 0, ..., 1, 0, 0])"
            ]
          },
          "metadata": {},
          "execution_count": 20
        }
      ],
      "source": [
        "y_predict_train=NB_classifier.predict(X_train)\n",
        "y_predict_train"
      ]
    },
    {
      "cell_type": "code",
      "execution_count": 21,
      "metadata": {
        "id": "cBKrvfwkPY7e"
      },
      "outputs": [],
      "source": [
        "cm=confusion_matrix(y_train,y_predict_train)"
      ]
    },
    {
      "cell_type": "code",
      "execution_count": 22,
      "metadata": {
        "colab": {
          "base_uri": "https://localhost:8080/",
          "height": 447
        },
        "id": "y5T3s1AFPasF",
        "outputId": "6290d742-7366-458c-e9bc-99bb83315f2d"
      },
      "outputs": [
        {
          "output_type": "execute_result",
          "data": {
            "text/plain": [
              "<Axes: >"
            ]
          },
          "metadata": {},
          "execution_count": 22
        },
        {
          "output_type": "display_data",
          "data": {
            "text/plain": [
              "<Figure size 640x480 with 2 Axes>"
            ],
            "image/png": "[encoded data removed]"
          },
          "metadata": {}
        }
      ],
      "source": [
        "sns.heatmap(cm,annot=True)"
      ]
    },
    {
      "cell_type": "code",
      "execution_count": 23,
      "metadata": {
        "colab": {
          "base_uri": "https://localhost:8080/"
        },
        "id": "mqXBxF_TPd5k",
        "outputId": "1cece9f1-eb32-4851-fd84-2061f2a36a11"
      },
      "outputs": [
        {
          "output_type": "execute_result",
          "data": {
            "text/plain": [
              "array([0, 0, 0, ..., 1, 0, 0])"
            ]
          },
          "metadata": {},
          "execution_count": 23
        }
      ],
      "source": [
        "y_predict_test=NB_classifier.predict(X_test)\n",
        "y_predict_test"
      ]
    },
    {
      "cell_type": "code",
      "execution_count": 24,
      "metadata": {
        "id": "HDZaGPSpPfaK"
      },
      "outputs": [],
      "source": [
        "cm=confusion_matrix(y_test,y_predict_test)"
      ]
    },
    {
      "cell_type": "code",
      "execution_count": 25,
      "metadata": {
        "colab": {
          "base_uri": "https://localhost:8080/",
          "height": 447
        },
        "id": "oNxzfGRHPg_a",
        "outputId": "52ef55b2-f46a-467d-b2da-af063191f696"
      },
      "outputs": [
        {
          "output_type": "execute_result",
          "data": {
            "text/plain": [
              "<Axes: >"
            ]
          },
          "metadata": {},
          "execution_count": 25
        },
        {
          "output_type": "display_data",
          "data": {
            "text/plain": [
              "<Figure size 640x480 with 2 Axes>"
            ],
            "image/png": "[encoded data removed]"
          },
          "metadata": {}
        }
      ],
      "source": [
        "sns.heatmap(cm,annot=True)"
      ]
    },
    {
      "cell_type": "markdown",
      "source": [
        "Result of the algorthms."
      ],
      "metadata": {
        "id": "vscCx-e_8GPm"
      }
    },
    {
      "cell_type": "code",
      "execution_count": 26,
      "metadata": {
        "colab": {
          "base_uri": "https://localhost:8080/"
        },
        "id": "rP0bP0_NPinL",
        "outputId": "ad08bcf4-5be2-4990-85d4-6fb551a976e1"
      },
      "outputs": [
        {
          "output_type": "stream",
          "name": "stdout",
          "text": [
            "              precision    recall  f1-score   support\n",
            "\n",
            "           0       1.00      0.99      0.99      1280\n",
            "           1       0.98      0.99      0.98       439\n",
            "\n",
            "    accuracy                           0.99      1719\n",
            "   macro avg       0.99      0.99      0.99      1719\n",
            "weighted avg       0.99      0.99      0.99      1719\n",
            "\n"
          ]
        }
      ],
      "source": [
        "print(classification_report(y_test,y_predict_test))"
      ]
    },
    {
      "cell_type": "markdown",
      "source": [
        "## Classsifcation using NaviesBayes Multinomial"
      ],
      "metadata": {
        "id": "DA5Lab7y26c1"
      }
    },
    {
      "cell_type": "code",
      "execution_count": 27,
      "metadata": {
        "id": "uj0th0xUeHLk"
      },
      "outputs": [],
      "source": [
        "from sklearn.feature_extraction.text import TfidfVectorizer\n",
        "from sklearn.model_selection import train_test_split, GridSearchCV\n",
        "from sklearn.naive_bayes import MultinomialNB\n",
        "from sklearn.metrics import accuracy_score, confusion_matrix\n",
        "from sklearn.pipeline import Pipeline\n",
        "from sklearn.preprocessing import StandardScaler"
      ]
    },
    {
      "cell_type": "code",
      "execution_count": 28,
      "metadata": {
        "colab": {
          "base_uri": "https://localhost:8080/"
        },
        "id": "bCCta-7daj3X",
        "outputId": "cd6ebe8f-9887-47f4-9d35-1656a27ffc06"
      },
      "outputs": [
        {
          "output_type": "stream",
          "name": "stdout",
          "text": [
            "Fitting 5 folds for each of 18 candidates, totalling 90 fits\n",
            "Best parameters: {'clf__alpha': 0.01, 'tfidf__max_df': 0.75, 'tfidf__ngram_range': (1, 2)}\n",
            "Accuracy: 0.9869\n",
            "Confusion Matrix:\n",
            "[[855   1]\n",
            " [ 14 276]]\n"
          ]
        }
      ],
      "source": [
        "X = emails_df['text']\n",
        "y = emails_df['spam']\n",
        "\n",
        "# Split the data\n",
        "X_train, X_test, y_train, y_test = train_test_split(X, y, test_size=0.2, random_state=42)\n",
        "\n",
        "# Create a pipeline with TF-IDF and MultinomialNB\n",
        "pipeline = Pipeline([\n",
        "    ('tfidf', TfidfVectorizer(token_pattern=r'\\b[A-Za-z]+\\b')),\n",
        "    ('clf', MultinomialNB())\n",
        "])\n",
        "\n",
        "# Use TF-IDF to convert the words into vector based on the frequency of the word.\n",
        "\n",
        "# Define parameter grid for GridSearch\n",
        "param_grid = {\n",
        "    'tfidf__max_df': [0.75, 0.85, 0.95],\n",
        "    'tfidf__ngram_range': [(1, 1), (1, 2)],\n",
        "    'clf__alpha': [0.01, 0.1, 1.0]\n",
        "}\n",
        "\n",
        "# Perform GridSearchCV\n",
        "\n",
        "grid_search = GridSearchCV(pipeline, param_grid, cv=5, n_jobs=-1, verbose=1)\n",
        "grid_search.fit(X_train, y_train)\n",
        "\n",
        "# Predict and evaluate\n",
        "y_pred = grid_search.predict(X_test)\n",
        "accuracy = accuracy_score(y_test, y_pred)\n",
        "conf_matrix = confusion_matrix(y_test, y_pred)\n",
        "\n",
        "print(f'Best parameters: {grid_search.best_params_}')\n",
        "print(f'Accuracy: {accuracy:.4f}')\n",
        "print(f'Confusion Matrix:\\n{conf_matrix}')"
      ]
    },
    {
      "cell_type": "code",
      "execution_count": null,
      "metadata": {
        "colab": {
          "base_uri": "https://localhost:8080/",
          "height": 447
        },
        "id": "NFT0P_AXDPcH",
        "outputId": "61f0848d-2869-4fcf-9b4e-4794a0d11e48"
      },
      "outputs": [
        {
          "output_type": "execute_result",
          "data": {
            "text/plain": [
              "<Axes: >"
            ]
          },
          "metadata": {},
          "execution_count": 28
        },
        {
          "output_type": "display_data",
          "data": {
            "text/plain": [
              "<Figure size 640x480 with 2 Axes>"
            ],
            "image/png": "[encoded data removed]"
          },
          "metadata": {}
        }
      ],
      "source": [
        "sns.heatmap(conf_matrix,annot=True)"
      ]
    },
    {
      "cell_type": "code",
      "execution_count": 29,
      "metadata": {
        "colab": {
          "base_uri": "https://localhost:8080/"
        },
        "id": "eA9Ptn4feCo_",
        "outputId": "d5d23c82-aaec-4275-b6dc-5b36c9e42e1f"
      },
      "outputs": [
        {
          "output_type": "stream",
          "name": "stdout",
          "text": [
            "              precision    recall  f1-score   support\n",
            "\n",
            "           0       0.98      1.00      0.99       856\n",
            "           1       1.00      0.95      0.97       290\n",
            "\n",
            "    accuracy                           0.99      1146\n",
            "   macro avg       0.99      0.98      0.98      1146\n",
            "weighted avg       0.99      0.99      0.99      1146\n",
            "\n"
          ]
        }
      ],
      "source": [
        "print(classification_report(y_test,y_pred))"
      ]
    },
    {
      "cell_type": "code",
      "source": [
        "# Example email text\n",
        "new_email = \"Subject: Request for Holiday Approval\"\n",
        "# Preprocess the new email text (assuming preprocess_text function is defined)\n",
        "processed_email = preprocess_text(new_email)\n",
        "\n",
        "# Use the grid_search model to predict\n",
        "predicted_label = grid_search.predict([processed_email])\n",
        "\n",
        "# Print the predicted label\n",
        "if predicted_label[0] == 1:\n",
        "    print(\"The email is predicted to be SPAM.\")\n",
        "else:\n",
        "    print(\"The email is predicted to be NOT SPAM.\")\n"
      ],
      "metadata": {
        "colab": {
          "base_uri": "https://localhost:8080/"
        },
        "id": "7tnHu3ChgXDZ",
        "outputId": "48f8182c-149f-4c14-e4d4-8a2b3b799a5c"
      },
      "execution_count": 33,
      "outputs": [
        {
          "output_type": "stream",
          "name": "stdout",
          "text": [
            "The email is predicted to be NOT SPAM.\n"
          ]
        }
      ]
    },
    {
      "cell_type": "code",
      "source": [
        "# Example dummy emails\n",
        "ham_email_1 = \"Hey John, just checking in on the project status. Let's sync up tomorrow.\"\n",
        "ham_email_2 = \"Reminder: Team meeting at 10 AM tomorrow in the conference room.\"\n",
        "spam_email_1 = \"Congratulations! You've won a free vacation. Click here to claim your prize.\"\n",
        "spam_email_2 = \"Urgent: Your account needs immediate verification. Please click the link to proceed.\"\n",
        "\n",
        "\n",
        "# Preprocess the emails\n",
        "processed_ham_email_1 = preprocess_text(ham_email_1)\n",
        "processed_ham_email_2 = preprocess_text(ham_email_2)\n",
        "processed_spam_email_1 = preprocess_text(spam_email_1)\n",
        "processed_spam_email_2 = preprocess_text(spam_email_2)\n",
        "\n",
        "# Use the classifier to predict\n",
        "predicted_label_1 = grid_search.predict([processed_ham_email_1])[0]\n",
        "predicted_label_2 = grid_search.predict([processed_ham_email_2])[0]\n",
        "predicted_label_3 = grid_search.predict([processed_spam_email_1])[0]\n",
        "predicted_label_4 = grid_search.predict([processed_spam_email_2])[0]\n",
        "\n",
        "# Print the predictions\n",
        "print(f\"Ham Email 1 Prediction: {'SPAM' if predicted_label_1 == 1 else 'NOT SPAM'}\")\n",
        "print(f\"Ham Email 2 Prediction: {'SPAM' if predicted_label_2 == 1 else 'NOT SPAM'}\")\n",
        "print(f\"Spam Email 1 Prediction: {'SPAM' if predicted_label_3 == 1 else 'NOT SPAM'}\")\n",
        "print(f\"Spam Email 2 Prediction: {'SPAM' if predicted_label_4 == 1 else 'NOT SPAM'}\")\n"
      ],
      "metadata": {
        "colab": {
          "base_uri": "https://localhost:8080/"
        },
        "id": "Tv8pZKeGgX5Z",
        "outputId": "2bf4d6c3-c32e-4886-ccaa-80073eba382b"
      },
      "execution_count": 35,
      "outputs": [
        {
          "output_type": "stream",
          "name": "stdout",
          "text": [
            "Ham Email 1 Prediction: NOT SPAM\n",
            "Ham Email 2 Prediction: NOT SPAM\n",
            "Spam Email 1 Prediction: SPAM\n",
            "Spam Email 2 Prediction: SPAM\n"
          ]
        }
      ]
    },
    {
      "cell_type": "code",
      "source": [],
      "metadata": {
        "id": "Vn2W9N3IhC-X"
      },
      "execution_count": null,
      "outputs": []
    }
  ],
  "metadata": {
    "colab": {
      "provenance": [],
      "mount_file_id": "1Jw2QlQvmHOPCSYVOtheXrSB5c7WHV9kC",
      "authorship_tag": "ABX9TyMmMlCC/z4y7cTnJbgYWdhG",
      "include_colab_link": true
    },
    "kernelspec": {
      "display_name": "Python 3",
      "name": "python3"
    },
    "language_info": {
      "name": "python"
    }
  },
  "nbformat": 4,
  "nbformat_minor": 0
}